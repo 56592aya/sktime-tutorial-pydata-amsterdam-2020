{
 "cells": [
  {
   "cell_type": "markdown",
   "metadata": {},
   "source": [
    "# <center style=\"font-size:30px\">Introduction to Machine Learning with Time Series</center>\n",
    "\n",
    "<center style=\"font-size:20px\">PyData Festival Amsterdam 2020, Online, Code Breakfast</center>\n",
    "<br>\n",
    "\n",
    "<center style=\"font-size:20px\"> Contributors: @mloning, @fkiraly, @prockenschaub</center>\n",
    "<br>\n",
    "\n",
    "<table>\n",
    "    <tr><td>\n",
    "    <img src=\"../images/sktime-logo.jpg\" width=120 height=120 />\n",
    "    </td><td>\n",
    "    <img src=\"../images/the-alan-turing-institute.png\" width=240/>\n",
    "    </td><td>\n",
    "    <img src=\"../images/pydata-amsterdam-2020.png\" width=240/>\n",
    "    </td></tr>\n",
    "</table>\n",
    "\n",
    "<br>"
   ]
  },
  {
   "cell_type": "markdown",
   "metadata": {},
   "source": [
    "## Learning objectives\n",
    "\n",
    "You'll learn about\n",
    "\n",
    "* Machine learning with time series\n",
    "* How to tell apart different learning problems (or tasks) that can arise in a temporal data setting\n",
    "* How to build machine learning models to solve these tasks (using sktime)\n",
    "* How to contribute to sktime"
   ]
  },
  {
   "cell_type": "markdown",
   "metadata": {},
   "source": [
    "## Contents\n",
    "\n",
    "1. Overview of time series learning tasks\n",
    "2. Forecasting\n",
    "3. Time series classification\n",
    "4. Contributing to sktime"
   ]
  },
  {
   "cell_type": "markdown",
   "metadata": {},
   "source": [
    "## What's sktime?\n",
    "\n",
    "* a scikit-learn compatible toolbox for ML with time series\n",
    "* a unified toolbox for different time series learning tasks\n",
    "* we provide specialised time series algorithms and tools to build, tune and evaluate composite models\n",
    "* friendly community of reseachers & practitioners from around the world"
   ]
  },
  {
   "cell_type": "markdown",
   "metadata": {},
   "source": [
    "## Other toolkits for time series\n",
    "\n",
    "* tslearn (classification/clustering)\n",
    "* pyts (classification)\n",
    "* tsfresh (feature extraction)\n",
    "* statsmodels (forecasting, time series analysis)\n",
    "* gluon-ts (forecasting, anomaly detection)\n",
    "\n",
    "Check out our more complete [list of related packages](https://github.com/alan-turing-institute/sktime/wiki/related-software). Feel free to raise an issue if anything is missing."
   ]
  },
  {
   "cell_type": "markdown",
   "metadata": {},
   "source": [
    "## If you use sktime, please cite us:\n",
    "    "
   ]
  },
  {
   "cell_type": "markdown",
   "metadata": {},
   "source": [
    "Bibtex entry:\n",
    "```\n",
    "@inproceedings{sktime,\n",
    "        author = {L{\\\"{o}}ning, Markus and Bagnall, Anthony and Ganesh, Sajaysurya and Kazakov, Viktor and Lines, Jason and Kir{\\'{a}}ly, Franz J},\n",
    "        booktitle = {Workshop on Systems for ML at NeurIPS 2019},\n",
    "        title = {{sktime: A Unified Interface for Machine Learning with Time Series}},\n",
    "        date = {2019},\n",
    "    }\n",
    "```"
   ]
  }
 ],
 "metadata": {
  "kernelspec": {
   "display_name": "Python 3",
   "language": "python",
   "name": "python3"
  },
  "language_info": {
   "codemirror_mode": {
    "name": "ipython",
    "version": 3
   },
   "file_extension": ".py",
   "mimetype": "text/x-python",
   "name": "python",
   "nbconvert_exporter": "python",
   "pygments_lexer": "ipython3",
   "version": "3.7.3"
  }
 },
 "nbformat": 4,
 "nbformat_minor": 2
}
